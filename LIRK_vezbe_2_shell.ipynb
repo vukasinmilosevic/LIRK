{
  "cells": [
    {
      "cell_type": "markdown",
      "metadata": {
        "id": "LQr2OIo_eLAY"
      },
      "source": [
        "# Linux i računarski klasteri - 2 čas\n",
        "#### Četvrtak, 17.7.2025.\n",
        "\n",
        "\n",
        "## Uvod\n",
        "\n",
        "Moderna naučna praksa ne postoji bez nekog vida programiranja. Između dostupnih (kao i besplatnih) okruženja za AI, grafički prikaz rezultata, analizu podataka - Jupyter (uparen sa **python** programskim jezikom) okruženje je našire rasprostranjen alat.\n",
        "\n",
        "Ova \"sveska\" (eng. notebook) predstavlja uvod u okruženje i osnove python-a u partnerstvu sa Google Colab platformom."
      ]
    },
    {
      "cell_type": "markdown",
      "metadata": {
        "id": "ly4vFUFTeLAY"
      },
      "source": [
        "# Jupyter (ranije poznat pod imenom IPython)\n",
        "\n",
        "Jupyter format u vidu notebook-ova (sveski), je veoma fleksibilan alat za kreiranje čitkih analiza, jednostavnog koda i objedinjenog prikazivanja slika, komentara, formula i grafika.\n",
        "\n",
        "Jupyter podržava veliki broj programskih jezika i lako se host-uje na skoro svim serverskim rešenjima - jedini zahtev je da korisnik poseduje `ssh` ili `http` pristup serveru. Najbitnije od svega, kompletno je besplatan."
      ]
    },
    {
      "cell_type": "markdown",
      "metadata": {
        "id": "-n5FJ7ZweLAZ"
      },
      "source": [
        "## Ćelije (cells)\n",
        "\n",
        "Jupyter sveske se sastoje od sekvenci \"ćelija\" koje mogu biti:\n",
        "* Tekstualne ćelije (kao što je ova), koja može biti napisana koristeći [Markdown sintaksu](http://daringfireball.net/projects/markdown/syntax)\n",
        "\n",
        "* Ćelije sa kodom koji je spreman za izvršavanje (kao što je ćelija ispod), npr. python kod, `%magics`, `!system calls`, itd.\n",
        "\n",
        "Ispod možemo pronaći code ćeliju koja sumira dve konstantne vrednosti:"
      ]
    },
    {
      "cell_type": "code",
      "execution_count": null,
      "metadata": {
        "id": "qJXkVQ8deLAZ",
        "outputId": "bd73318b-d4e2-4a00-fcca-03c225fd2bb3",
        "colab": {
          "base_uri": "https://localhost:8080/"
        }
      },
      "outputs": [
        {
          "output_type": "execute_result",
          "data": {
            "text/plain": [
              "3"
            ]
          },
          "metadata": {},
          "execution_count": 1
        }
      ],
      "source": [
        "1 + 2"
      ]
    },
    {
      "cell_type": "markdown",
      "metadata": {
        "id": "EIrBjvQ2eLAZ"
      },
      "source": [
        "### Skraćenice\n",
        "\n",
        "* `Shift-Enter` - koristiti sa pokretanje programa ili formatiranje teksta unutar ćelije;\n",
        "* Pritiskanje tastera `Enter` dodaje novu liniju teksta u ćeliji.\n",
        "\n",
        "Možete ponovo pokrenuti istu ćeliju koliko god puta poželite (ili dok ne preopteretite sistem). Potrebno je da postavite kursor na ćeliju i pritisnete `Shift-Enter` zarad pokretanja iste.\n",
        "\n",
        "* Kreiranje nove ćelije iznad trenutne: `Esc+a`\n",
        "* Kreiranje nove ćelije ispod trenutne:`Esc+b`\n",
        "* Editovanje ćelije se vrši tako što kliknete na nju i pritisnete `Enter`\n",
        "\n",
        "Kreirane ćelije su ćelije za kod. Za kreiranje tekstualnih ćelija izaberite meni opcije pod `Insert-Text cell`. Primer markdown sintakse sa latex formulama je dat ispod.\n",
        "\n",
        "$$\n",
        "    P(A|B)=\\frac{P(B|A)P(A)}{P(B)}\n",
        "$$\n",
        "\n",
        "Čuvanje projekta-sveske se obavlja pristiskom `Cmd+s` ili `Ctrl+s`."
      ]
    },
    {
      "cell_type": "markdown",
      "metadata": {
        "id": "eE5MeSHFeLAZ"
      },
      "source": [
        "## Downloading notebook\n",
        "Pod meni opcijama odabrati \"File\"->\"Download\"->\"Download .ipynb\"."
      ]
    },
    {
      "cell_type": "code",
      "source": [
        "!ls"
      ],
      "metadata": {
        "colab": {
          "base_uri": "https://localhost:8080/"
        },
        "id": "j4thpEQNBm1Z",
        "outputId": "70b00629-dbf1-4d87-eb52-0402e5b77a6d"
      },
      "execution_count": null,
      "outputs": [
        {
          "output_type": "stream",
          "name": "stdout",
          "text": [
            "sample_data\n"
          ]
        }
      ]
    },
    {
      "cell_type": "markdown",
      "source": [
        "# Shell\n",
        "\n",
        "## Uvod\n",
        "\n",
        "Iz korisničke perspektive, računari rade četiri stvari:\n",
        "\n",
        "* pokreću programe\n",
        "* čuvaju podatke\n",
        "* komuniciraju jedni sa drugima i interaguju sa nama\n",
        "\n",
        "Komunikacija može da se izvrši na mnogo različitih načina, uključujući putem tastature i miša, ili interfejsa ekrana osetljivog na dodir, ili korišćenjem sistema za prepoznavanje govora. Iako interfejsi dodira i glasa postaju sve uobičajeniji, većina interakcije se i dalje obavlja korišćenjem tradicionalnih ekrana, miševa, tačpeda i tastatura.\n",
        "\n",
        "Svi smo upoznati sa grafičkim korisničkim interfejsima (**GUI**): prozorima, ikonama i pokazivačima. Lako ih je naučiti i fantastični su za jednostavne zadatke gde se rečnik koji se sastoji od „klikni“ lako prevodi u „uradi ono što želim“. Ali ova magija se zasniva na želji za jednostavnim skupom stvari i posedovanju programa koji mogu da rade upravo te stvari.\n",
        "\n",
        "Ako želite da radite složene, namenski specifične stvari, pomaže vam da imate bogatiji način izražavanja svojih instrukcija računaru. Ne mora biti komplikovano ili teško, samo rečnik komandi i jednostavna gramatika za njihovo korišćenje.\n",
        "\n",
        "To je ono što pruža **shell** - jednostavan jezik i interfejs komandne linije za korišćenje.\n",
        "\n",
        "Osnovu interfejsa komandne linije (CLI) je petlja za čitanje-evaluaciju-ispisivanje (Read-evaluate-print-loop ili REPL). Ime potiče od same procedure: nakon unosa komande i pritiskanja Enter, shell čita vašu komandu, evaluira je (ili bolje rečeno „izvršava“), štampa izlaz vaše komande, vraća se unazad i čeka da unesete drugu komandu.\n",
        "\n",
        "Shell je program kao i svaki drugi. Ono što je posebno kod njega jeste to što je njegov zadatak da pokreće druge programe, a ne da sam vrši proračune. Najpopularniji Unix i Unix-like shell je Bash skraćeno od Bourne Again SHell (tako nazvana zato što je izvedena iz shell-a koji je napisao Stiven Born). Bash je podrazumevana shell na većini modernih implementacija Unix-a, čak i u većini paketa koji pružaju Unix alate za Windows.\n",
        "\n",
        "Tipičan shell izgleda otprilike ovako:\n",
        "```\n",
        "bash-3.2$\n",
        "\n",
        "bash-3.2$ ls -F /\n",
        "Applications/ System/\n",
        "Library/ Users/\n",
        "Network/ Volumes/\n",
        "\n",
        "bash-3.2$\n",
        "```\n",
        "Prvi red prikazuje samo prompt, što ukazuje da shell čeka unos. Vaš shell može koristiti drugačiji tekst za prompt.\n",
        "\n",
        "Input-i obično imaju sledeću strukturu: komanda, nekoliko flags (takođe nazvanih options ili switches) i argument. Flags počinju jednom crticom (-) ili dve crtice (--) i menjaju ponašanje komande. Argumenti govore komandi na šta da izvrši svoju programsku operaciju (npr. na datoteci ili direktorijumu). Ponekad se flags i argumenti grupisano nazivaju parametrima. Komanda se može pozvati sa više od jedne flags i više od jednog argumenta, ali takođe komanda ne mora uvek da zahteva argument ili zastavicu (što ćemo videti u narednim primerima).\n",
        "\n",
        "\n",
        "\n",
        "## Najpoznatije shell komande\n",
        "\n",
        "### Vaš najbolji prijatelj u svetu shell komandi - ```man``` komanda (kako čitati instrukcije u Linux-u)\n",
        "\n",
        "Komanda ```man```, skraćeno od manual (priručnik-instrukcije), predstavlja moćan alat u operativnom sistemu Linux koji omogućava korisnicima pristup detaljnim informacijama o različitim komandama, uslužnim programima i sistemskim pozivima. Komanda ```man```  pruža sveobuhvatnu dokumentaciju, pomažući korisnicima da razumeju kako da koriste i konfigurišu različite elemente Linux okruženja.\n",
        "```\n",
        "Option         Description\n",
        "\n",
        "man [command]  Display the manual page for the specified command.\n",
        "\n",
        "-f, --whatis   Display a concise one-line description of the command.\n",
        "\n",
        "-k, --apropos  Search for commands related to a given keyword.\n",
        "\n",
        "-a, --all.     Display all matching manual pages for the specified command.\n",
        "\n",
        "```"
      ],
      "metadata": {
        "id": "YiZTzoKtB3_m"
      }
    },
    {
      "cell_type": "code",
      "source": [
        "# Primer 1: Prikazati instrukcije za ls (list) komandu\n",
        "#!unminimize\n",
        "!man --whatis ls"
      ],
      "metadata": {
        "colab": {
          "base_uri": "https://localhost:8080/"
        },
        "id": "q17bQv6_B73x",
        "outputId": "48a37713-6739-44db-b62c-ea3b30a037b4"
      },
      "execution_count": null,
      "outputs": [
        {
          "output_type": "stream",
          "name": "stdout",
          "text": [
            "ls (1posix)          - list directory contents\n"
          ]
        }
      ]
    },
    {
      "cell_type": "code",
      "source": [
        "# Primer 2: Prikazati instrukcije za pwd (print working directory) komandu\n",
        "!man -f pwd"
      ],
      "metadata": {
        "colab": {
          "base_uri": "https://localhost:8080/"
        },
        "id": "2TTCQGl8DjL1",
        "outputId": "680167a5-7e24-4987-e19a-11f1a6edafd4"
      },
      "execution_count": null,
      "outputs": [
        {
          "output_type": "stream",
          "name": "stdout",
          "text": [
            "pwd (1posix)         - return working directory name\n"
          ]
        }
      ]
    },
    {
      "cell_type": "markdown",
      "source": [
        "## Komanda ```ls``` (list)\n",
        "Komanda ls omogućava korisniku da vidite datoteke i direktorijume unutar određenog direktorijuma (podrazumevana opcija prikazuje trenutni radni direktorijum). Obično navodi datoteke i direktorijume u rastućem abecednom redu (osim ukoliko nije uparen sa jednom od pratećih opcija).\n",
        "\n",
        "Prikazivanje sadržaja radnog direktorijuma:\n",
        "\n",
        "```\n",
        "ls\n",
        "```\n",
        "\n",
        "Prikazivanje sadržaja proizvoljnog direktorijuma:\n",
        "```\n",
        "ls {Putanja_do_željenog_direktorijuma}\n",
        "```\n",
        "\n",
        "Opšti oblik za pozivanje komande ls:\n",
        "```\n",
        "ls -{Opcija} {Putanja_do_željenog_direktorijuma}\n",
        "```\n",
        "\n",
        "Dodatne informacije o opcijama:\n",
        "\n",
        "```\n",
        "Option    Description\n",
        "-l        - Long listing format\n",
        "-a        - Include hidden files\n",
        "-h        - Human-readable sizes\n",
        "-t        - Sort by modification time\n",
        "-r        - Reverse order while sorting\n",
        "-R        - List subdirectories recursively\n",
        "-S        - Sort by file size\n",
        "-1        - List one file per line\n",
        "-d        - List directories themselves, not their contents\n",
        "```"
      ],
      "metadata": {
        "id": "8cA5eFVgEM1J"
      }
    },
    {
      "cell_type": "markdown",
      "source": [
        "**Vezivanje \"trajnih\" opcija za vaše komande:**\n",
        "Prilagođavanje ponašanja komandi u Linuksu je jednostavno pomoću komande ```alias```. Da biste ove promene učinili trajnim (ili eventualno napravili novu, pomoćnu funkciju), pratite ove korake:\n",
        "\n",
        "**Kreirajte alias:** Definišite svoj alias sa željenim opcijama. Npr. da biste poboljšali komandu ls:\n",
        "```\n",
        "alias ls1=\"ls --color=auto -lh\"\n",
        "```\n",
        "**Napomena:** Ovaj alias je vezan samo za trenutnu sesiju. Da biste ga učinili trajnim, potrebno je dodati alias u konfiguracionu datoteku vašeg shell-a (tj. dodati alias u ~/.bashrc):\n",
        "```\n",
        "echo 'alias ls1=\"ls --color=auto -lh\"' >> ~/.bashrc\n",
        "source ~/.bashrc\n",
        "```\n",
        "\n",
        "**Pitanje:** Re-startovati vašu terminal sesiju nakon editovanja ```.bashrc``` fajla. Da li je vaša komanda ```ls1``` i dalje aktivna?"
      ],
      "metadata": {
        "id": "5iQmFiF8ej9Z"
      }
    },
    {
      "cell_type": "code",
      "source": [
        "# Primer: Listanje sadržaja u radnom direktorijumu\n",
        "\n",
        "!ls"
      ],
      "metadata": {
        "colab": {
          "base_uri": "https://localhost:8080/"
        },
        "id": "Y_qAM3TeEcf7",
        "outputId": "60f65591-7f9a-4c1c-f8ef-a6ded8a919f5"
      },
      "execution_count": null,
      "outputs": [
        {
          "output_type": "stream",
          "name": "stdout",
          "text": [
            "sample_data\n"
          ]
        }
      ]
    },
    {
      "cell_type": "code",
      "source": [
        "# Primer: Listanje sadržaja u root direktorijumu\n",
        "\n",
        "!ls /"
      ],
      "metadata": {
        "colab": {
          "base_uri": "https://localhost:8080/"
        },
        "id": "L5Uw_e42LAaS",
        "outputId": "61ab81e6-523e-4118-e54b-7ad171ddd903"
      },
      "execution_count": null,
      "outputs": [
        {
          "output_type": "stream",
          "name": "stdout",
          "text": [
            "bin\t\t\t    kaggle\t\t      opt\t\t sys\n",
            "boot\t\t\t    lib\t\t\t      proc\t\t tmp\n",
            "content\t\t\t    lib32\t\t      python-apt\t tools\n",
            "cuda-keyring_1.1-1_all.deb  lib64\t\t      python-apt.tar.xz  usr\n",
            "datalab\t\t\t    libx32\t\t      root\t\t var\n",
            "dev\t\t\t    media\t\t      run\n",
            "etc\t\t\t    mnt\t\t\t      sbin\n",
            "home\t\t\t    NGC-DL-CONTAINER-LICENSE  srv\n"
          ]
        }
      ]
    },
    {
      "cell_type": "code",
      "source": [
        "# Primer: Listanje sadržaja u root direktorijumu sortirano po vremenu kreiranja\n",
        "\n",
        "!ls -ltr /"
      ],
      "metadata": {
        "colab": {
          "base_uri": "https://localhost:8080/"
        },
        "id": "W-EgZK-ELE8k",
        "outputId": "1ef31484-a9ec-4202-8caa-d33f991c25e6"
      },
      "execution_count": null,
      "outputs": [
        {
          "output_type": "stream",
          "name": "stdout",
          "text": [
            "total 452\n",
            "-r-xr-xr-x   1 root root 346012 Jan  1  2000 python-apt.tar.xz\n",
            "drwxr-xr-x   2 root root   4096 Apr 18  2022 home\n",
            "drwxr-xr-x   2 root root   4096 Apr 18  2022 boot\n",
            "lrwxrwxrwx   1 root root      8 Jun 27  2024 sbin -> usr/sbin\n",
            "lrwxrwxrwx   1 root root     10 Jun 27  2024 libx32 -> usr/libx32\n",
            "lrwxrwxrwx   1 root root      9 Jun 27  2024 lib64 -> usr/lib64\n",
            "lrwxrwxrwx   1 root root      9 Jun 27  2024 lib32 -> usr/lib32\n",
            "lrwxrwxrwx   1 root root      7 Jun 27  2024 lib -> usr/lib\n",
            "lrwxrwxrwx   1 root root      7 Jun 27  2024 bin -> usr/bin\n",
            "drwxr-xr-x   2 root root   4096 Jun 27  2024 srv\n",
            "drwxr-xr-x   2 root root   4096 Jun 27  2024 mnt\n",
            "drwxr-xr-x   2 root root   4096 Jun 27  2024 media\n",
            "-rw-r--r--   1 root root  17294 Jul 10  2024 NGC-DL-CONTAINER-LICENSE\n",
            "-rw-r--r--   1 root root   4332 Jul 10  2024 cuda-keyring_1.1-1_all.deb\n",
            "drwxr-xr-x   1 root root   4096 Jul 14 13:16 run\n",
            "drwxrwxr-x  14 root root   4096 Jul 14 13:22 python-apt\n",
            "drwxr-xr-x   1 root root   4096 Jul 14 13:37 content\n",
            "drwxr-xr-x   1 root root   4096 Jul 14 13:51 tools\n",
            "drwxr-xr-x   1 root root   4096 Jul 14 13:51 datalab\n",
            "drwxr-xr-x   1 root root   4096 Jul 14 13:51 var\n",
            "drwxr-xr-x   1 root root   4096 Jul 14 13:53 usr\n",
            "drwxr-xr-x   1 root root   4096 Jul 14 14:09 opt\n",
            "drwxr-xr-x   1 root root   4096 Jul 16 16:09 etc\n",
            "dr-xr-xr-x 194 root root      0 Jul 16 16:09 proc\n",
            "dr-xr-xr-x  13 root root      0 Jul 16 16:09 sys\n",
            "drwxr-xr-x   3 root root   4096 Jul 16 16:09 kaggle\n",
            "drwxr-xr-x   5 root root    360 Jul 16 16:09 dev\n",
            "drwxrwxrwt   1 root root   4096 Jul 16 16:31 tmp\n",
            "drwx------   1 root root   4096 Jul 16 16:45 root\n"
          ]
        }
      ]
    },
    {
      "cell_type": "markdown",
      "source": [
        "## Komanda ```cd``` (change directory)\n",
        "\n",
        "Komanda se koristi zarad promene radnog direktorijuma.\n",
        "\n",
        "```\n",
        "cd ..: Vratiti se jedan nivo direktorija iznad\n",
        "cd ~:  Promeniti trenutni direktorijum na home direktorijum\n",
        "cd -:  Prebaciti se na prethodni direktorijum\n",
        "cd /:  Prebaciti se na root direktorijum\n",
        "```\n"
      ],
      "metadata": {
        "id": "UP1kxFQgLQgc"
      }
    },
    {
      "cell_type": "code",
      "source": [
        "!cd ~\n",
        "!pwd"
      ],
      "metadata": {
        "colab": {
          "base_uri": "https://localhost:8080/"
        },
        "id": "_gqCaYZ8dmTC",
        "outputId": "eaec7235-d649-48a8-c8e8-26aa93b145da"
      },
      "execution_count": null,
      "outputs": [
        {
          "output_type": "stream",
          "name": "stdout",
          "text": [
            "/content\n"
          ]
        }
      ]
    },
    {
      "cell_type": "markdown",
      "source": [
        "## Komanda ```clear```\n",
        "\n",
        "Predstavlja standardnu komandu koja se koristi za brisanje ekrana terminala. Ova komanda prvo traži tip terminala u okruženju, a nakon toga pronalazi u bazi podataka terminfo kako da obriše ekran. Ova komanda će ignorisati sve parametre komandne linije koji mogu biti prisutni."
      ],
      "metadata": {
        "id": "1Y0D1-qGeLmr"
      }
    },
    {
      "cell_type": "markdown",
      "source": [
        "## Komanda ```cat``` (concatenate)\n",
        "\n",
        "Komanda omogućava kreiranjs jednu ili više datoteka, pregled sadržaja datoteke ili spajanje datoteke i preusmeravanje izlaza na terminal ili datoteke.\n",
        "```cat``` je skraćeno od „concatenate (spojiti)“ i jedna je od najčešće korišćenih komandi u Linuks terminalu."
      ],
      "metadata": {
        "id": "TGhpsXpQecAv"
      }
    },
    {
      "cell_type": "markdown",
      "source": [
        "**Najčešći primeri upotrebe:**\n",
        "\n",
        "Da biste prikazali sadržaj datoteke u terminalu:\n",
        "```\n",
        "cat <ime_datoteke>\n",
        "```\n",
        "\n",
        "Da biste prikazali sadržaj više datoteka u terminalu:\n",
        "\n",
        "```\n",
        "cat datoteka1 datoteka2 ...\n",
        "```\n",
        "\n",
        "Da biste kreirali datoteku pomoću komande cat:\n",
        "\n",
        "```\n",
        "cat > ime_datoteke\n",
        "```\n",
        "\n",
        "Da biste prikazali sve datoteke u trenutnom direktorijumu sa istim tipom datoteke:\n",
        "\n",
        "```\n",
        "cat *.<tip_datoteke>\n",
        "```\n",
        "\n",
        "Da biste prikazali sadržaj svih datoteka u trenutnom direktorijumu:\n",
        "\n",
        "```\n",
        "cat *\n",
        "```\n",
        "\n",
        "Da biste stavili izlaz date datoteke u drugu datoteku:\n",
        "```\n",
        "cat ime_stare_datoteke > ime_nove_datoteke\n",
        "```\n",
        "Koristite komandu cat sa ```more``` i ```less``` opcijama:\n",
        "```\n",
        "cat ime_datoteke | more\n",
        "cat ime_datoteke | less\n",
        "```\n",
        "\n",
        "Dodajte sadržaj datoteke1 u datoteku2:\n",
        "```\n",
        "cat datoteka1 >> datoteka2\n",
        "```\n"
      ],
      "metadata": {
        "id": "9_Z44GRllOfH"
      }
    },
    {
      "cell_type": "markdown",
      "source": [
        "## Komanda ```tac``` (invertovan ```cat```)\n",
        "\n",
        "Komanda koja omogućava da pregled datoteke red po red,\n",
        "počevši od poslednjeg reda. ```tac``` ne obrće sadržaj svakog pojedinačnog reda, već samo redosled kojim su redovi predstavljeni. Nazvana je po analogiji sa komandom cat.\n",
        "\n",
        "Prikaz sadržaja datoteke u terminalu:\n",
        "```\n",
        "tac <ime_datoteke>\n",
        "```"
      ],
      "metadata": {
        "id": "gD4pc4AIoyMR"
      }
    },
    {
      "cell_type": "markdown",
      "source": [
        "## Komanda ```head```\n",
        "\n",
        "Komanda prikazuje prvih 10 redova izabranog fajla.\n",
        "\n",
        "```\n",
        "head nazivfajla.txt\n",
        "```\n",
        "\n",
        "Generalno pozivanje komande:\n",
        "\n",
        "```\n",
        "head [Opcija] [Naziv_fajla]\n",
        "```\n",
        "Use the -n option with a number (should be an integer) of lines to\n",
        "display.\n",
        "\n",
        "Opcija ```-n``` služi za definisanje broja (mora biti integer) linija koje želite prikazati:\n",
        "\n",
        "```\n",
        "head -n 5 nazivfajla.txt\n",
        "```\n",
        "\n",
        "Primeri u google colab direktorijumu:\n",
        "```\n",
        "head sample_data/california_housing_test.csv\n",
        "```\n",
        "\n",
        "```\n",
        "head -n 2 sample_data/california_housing_test.csv\n",
        "```"
      ],
      "metadata": {
        "id": "oZrmjAmcquGJ"
      }
    },
    {
      "cell_type": "markdown",
      "source": [
        "## Komanda ```tail```\n",
        "\n",
        "Predstavlja ekvivalent prethodnoj komandi. Prikazuje poslednjih 10 linija fajla.\n",
        "\n",
        "```\n",
        "tail nazivfajla.txt\n",
        "```\n",
        "Generalno pozivanje komande:\n",
        "```\n",
        "tail [Opcija] [Naziv_fajla]\n",
        "```\n",
        "Opcija ```-n``` služi za definisanje broja (mora biti integer) poslednjih linija koje želite prikazati:\n",
        "\n",
        "```\n",
        "tail -n 5 nazivfajla.txt\n",
        "```\n",
        "\n",
        "Primeri u google colab direktorijumu:\n",
        "```\n",
        "tail sample_data/california_housing_test.csv\n",
        "```\n",
        "\n",
        "```\n",
        "tail -n 2 sample_data/california_housing_test.csv\n",
        "```\n"
      ],
      "metadata": {
        "id": "iaeNllnYsEky"
      }
    },
    {
      "cell_type": "markdown",
      "source": [
        "## Komanda ```pwd``` (print working directory)\n",
        "\n",
        "Kao što samo ime nalaže, služi za prikazivanje lokacije trenutnog radnog direktorijuma.\n",
        "\n",
        "Primer:\n",
        "\n",
        "```\n",
        "pwd\n",
        "```\n",
        "\n",
        "Generalno pozivanje komande:\n",
        "```\n",
        "pwd [Opcija]\n",
        "```\n",
        "\n",
        "**Napomena:** Ekvivalentan output možete dobiti i prikazom sadržaja $PWD varijable (više o varijablama na sledećem času):\n",
        "```\n",
        "echo $PWD\n",
        "```\n"
      ],
      "metadata": {
        "id": "RV-UUGM2s0CF"
      }
    },
    {
      "cell_type": "markdown",
      "source": [
        "## Komanda ```touch```\n",
        "\n",
        "Komanda modifikuje timestamp fajla. Ukoliko izabrani fajl ne postoji, kreira se novi, prazni fajl pod tim imenom.\n",
        "\n",
        "**Generalno pozivanje komande:**\n",
        "\n",
        "```\n",
        "touch [Opcija] [Naziv_fajla]\n",
        "```\n",
        "**Tipovi timestamps:**\n",
        "\n",
        "* **Access Time (atime):** Prikazuje kada je poslednji put pristupljeno fajlu (accessed) ili je read (pročitan).\n",
        "* **Modification Time (mtime):** Prikazuje kada je poslednji put modifikovan sadržaj fajla.\n",
        "* **Change Time (ctime):** Prikazuje kada je poslednji put promenjen metadata fajla (kao što su dozvole ili vlasništvo).\n",
        "\n",
        "```ls -l```  prikazuje mtime\n",
        "\n",
        "```ls -lc``` prikazuje ctime\n",
        "\n",
        "```ls -lu``` prikazuje atime\n",
        "\n",
        "\n",
        "**Primeri:**\n",
        "\n",
        "Ukoliko ```file.txt``` postoji, podesiti sve timestamps na trenutno sistemsko vreme. Ukoliko ```file.txt``` ne postoji, kreirati prazan fajl pod tim imenom.\n",
        "```\n",
        "touch file.txt\n",
        "```\n",
        "\n",
        "Ukoliko ```file.txt``` postoji, podesi njegova vremena na trenutno sistemsko vremen, ukoliko ne postoji - ne raditi ništa:\n",
        "```\n",
        "touch -c file.txt\n",
        "```"
      ],
      "metadata": {
        "id": "7i2_3cPguEYA"
      }
    },
    {
      "cell_type": "markdown",
      "source": [
        "## Komanda `cp` (copy)\n",
        "\n",
        "Komanda služi za kopiranje fajlova ili foldera. Ona kreira identičnu kopiju fajla na disku pod drugim imenom. Komanda zahteva bar dva imena fajla kao svoje argumente.\n",
        "\n",
        "**Primeri:**\n",
        "\n",
        "Kopiranje sadržaja originalnog fajla u drugi:\n",
        "```\n",
        "cp OG_File dest_File\n",
        "```\n",
        "Ukoliko dest_File ne postoji, on će biti kreiran i tada će sadržaj biti kopiran. Ukoliko postoji, njegov sadržaj će biti \"presnimljen\".\n",
        "\n",
        "Kopiranje fajla u drugi direktorijum:\n",
        "```\n",
        "cp OG_File /folderName/dest_File\n",
        "```\n",
        "Kopiranje direktorijuma, uključujući sve fajlvoe i subdirektorijume:\n",
        "```\n",
        "cp -R folderName1 folderName2\n",
        "```\n",
        "Komanda kreira folderName2 direktorijum i rekurzivno kopira sve fajlove i subdirektorijume iz folderName1 u folderName2."
      ],
      "metadata": {
        "id": "aqNN7yW1JE5n"
      }
    },
    {
      "cell_type": "markdown",
      "source": [
        "# Komanda mv (move)\n",
        "\n",
        "Komanda vam omogućava da pomerite jedan ili više fajlova (direktorijuma) sa jedne lokacije na drugu unutar fajl sistema. Koristi se za jednu od dve glavne namene:\n",
        "\n",
        "\n",
        "*   Preimenovanje fajla ili foldera\n",
        "*   Pomeranje grupe fajlova u drugi direktorijum\n",
        "\n",
        "Napomena: Razlika u odnosu na copy (ujedno i prednost u nekim slučajevima) je činjenica da output ove komante ne zahteva dodatni memorijski prostor na disku.\n",
        "\n",
        "```\n",
        "mv old_name.txt new_name.txt\n",
        "```"
      ],
      "metadata": {
        "id": "b8IoiMBGLV7T"
      }
    },
    {
      "cell_type": "markdown",
      "source": [
        "# Komanda `rm` (remove)\n",
        "\n",
        "Komanda služi za brisanje fajlova i foldera (uz odgovarajući dodatak).\n",
        "\n",
        "```\n",
        "rm filename.txt\n",
        "```\n",
        "\n",
        "Napomena: `rm` ne briše foldere kao default setting, prateća opcija `-r` mora biti dodata zarad rekurzivnog prolaska kroz sve elemente foldera (ponekad i `-f`, force, ali oprez pri korišćenju)"
      ],
      "metadata": {
        "id": "Q3DCTEYOMIOM"
      }
    },
    {
      "cell_type": "markdown",
      "source": [
        "## Komanda ```cal```\n",
        "\n",
        "Prikazuje formatirani kalendar u terminalu. Ukoliko je pozvana bez ikakve dodatne opcije, komanda prikazuje trenutni mesec pri čemu je današnji datum posebno istaknut.\n",
        "\n",
        "**Generalno pozivanje komande:**\n",
        "\n",
        "```\n",
        "cal [generalne opcije] [-jy] [[mesec] godina]\n",
        "```\n",
        "\n",
        "**Primeri:**\n",
        "\n",
        "Prikazati kalendar za tekući mesec i istaknuti današnji dan:\n",
        "```\n",
        "cal\n",
        "```\n",
        "Identični zahtev kao i prethodni, ali bez isticanja današnjeg dana:\n",
        "```\n",
        "cal -h\n",
        "```\n",
        "Prikazati prošli, sadašnji i sledeći mesec:\n",
        "```\n",
        "cal -3\n",
        "```\n",
        "Prikazati celogodišnji kalendar:\n",
        "```\n",
        "cal -y\n",
        "```\n",
        "Prikazati celogodišnji kalendar za 2000. godinu:\n",
        "```\n",
        "cal -y 2000\n",
        "cal 2000\n",
        "```\n",
        "Prikazati kalendar za decembar tekuće godine:\n",
        "```\n",
        "cal -m [December, Dec, or 12]\n",
        "```\n",
        "Prikazati kalendar za decembar 2000. godine:\n",
        "```\n",
        "cal 12 2000\n",
        "```"
      ],
      "metadata": {
        "id": "j4npU5DyzOnA"
      }
    },
    {
      "cell_type": "markdown",
      "source": [
        "## Komanda ```bc```\n",
        "\n",
        "Komanda omogućava primenu matematičkih operacija kroz CLI.\n",
        "\n",
        "\n",
        "**Primeri:**\n",
        "\n",
        "**Aritmetički:**\n",
        "```\n",
        "Input : $ echo \"11+5\" | bc\n",
        "Output : 16\n",
        "```\n",
        "**Inkrement:**\n",
        "\n",
        "* var++ : Post-increment operator, rezultat varijable se prvo koristi a nakon toga se varijabla uvećava.\n",
        "* ++var : Pre-increment operator, varijabla se prvo uvećava a tek onda se rezultat varijable koristi.\n",
        "```\n",
        "Input: $ echo \"var=3;++var\" | bc\n",
        "Output: 4\n",
        "```\n",
        "\n",
        "**Dekrement:**\n",
        "\n",
        "* var––: Post-decrement operator, rezultat se prikazuje prvo, a varijabla je tek tada umanjena.\n",
        "* –– var: Pre-decrement operator, varijabla je umanjena prvo, a nakon toga je sačuvana-korišćena.\n",
        "and then the result of the variable is stored.\n",
        "```\n",
        "Input: $ echo \"var=3;--var\" | bc\n",
        "Output: 2\n",
        "```\n",
        "\n",
        "**Dodela vrednosti:**\n",
        "* var = value : Dodeljivanje vrednosti ```value``` varijabli ```var```\n",
        "* var += value :   ```var = var + value```\n",
        "* var -= value :   ```var = var – value```\n",
        "* var *= value :   ```var = var * value```\n",
        "* var /= value :   ```var = var / value```\n",
        "* var ^= value :   ```var = var ^ value```\n",
        "* var %= value :   ```var = var % value```\n",
        "\n",
        "```\n",
        "Input: $ echo \"var=4;var\" | bc\n",
        "Output: 4\n",
        "```\n",
        "**Upoređivanje:**\n",
        "\n",
        "Ukoliko je poređenje tačno, rezultat je 1 (true), u suprotnom, rezultat je 0 (false.)\n",
        "\n",
        "* expr1<expr2 : 1, ukoliko je expr1 striktno manje od expr2.\n",
        "* expr1<=expr2 : 1, ukoliko je expr1 manje ili jednako expr2.\n",
        "* expr1>expr2 : 1, ukoliko je expr1 striktno veće od expr2.\n",
        "* expr1>=expr2 : 1, ukoliko je expr1 veće ili jednako expr2.\n",
        "* expr1==expr2 : 1, ukoliko je expr1 jednako expr2.\n",
        "expr1!=expr2 : 1, ukoliko expr1 nije jednako expr2.\n",
        "\n",
        "```\n",
        "Input: $ echo \"6<4\" | bc\n",
        "Output: 0\n",
        "```\n",
        "```\n",
        "Input: $ echo \"2==2\" | bc\n",
        "Output: 1\n",
        "\n",
        "```\n",
        "**Logički ili Boolean:**\n",
        "\n",
        "* expr1 && expr2 : 1, ukoliko su oba izraza nenulta.\n",
        "\n",
        "* expr1 || expr2 : 1, ukoliko je bar jedan izraz nenulti.\n",
        "\n",
        "* ! expr : 1, ukoliko je izraz 0.\n",
        "\n",
        "\n",
        "Primeri:\n",
        "```\n",
        "Input: $ echo \"! 1\" | bc\n",
        "Output: 0\n",
        "```\n",
        "```\n",
        "Input: $ echo \"10 && 5\" | bc\n",
        "Output: 1\n",
        "```"
      ],
      "metadata": {
        "id": "15vaZVL21IYM"
      }
    },
    {
      "cell_type": "markdown",
      "source": [
        "## Komanda ```df``` (disk free)\n",
        "\n",
        "Komanda služi za proveru dostupnog korisničkog prostora, odnosno disk usage informaciju. Prikazuje informaciju za fajl sistem naveden u komandi. Ukoliko fajl sistem nije naveden, rezultat komande prikazuje dostupni prostor za sve \"mounted\" file sisteme.\n",
        "\n",
        "**Primeri:**\n",
        "\n",
        "Prikazati dostupni prostor na disku:\n",
        "```\n",
        "df\n",
        "```\n",
        "Prikazati prethodni rezultat u čitkijem formatu (ne u byte-ovima)\n",
        "```\n",
        "df -h # h - human readable (u blokovima od 1024)\n",
        "```"
      ],
      "metadata": {
        "id": "5cVPB19O83PU"
      }
    },
    {
      "cell_type": "markdown",
      "source": [
        "## Komanda ```help```\n",
        "\n",
        "Služi za prikazivanje informacija vezanih za osnovne komande. Ukoliko je \"pattern\" naveden, komanda prikazuje detalje informacije o svim komandama koje odgovaraju tom uzorku.\n",
        "\n",
        "**Primeri:**\n",
        "\n",
        "Želimo da dobijemo kompletnu informaciju o komandi ```cd```:\n",
        "```\n",
        "help cd\n",
        "```\n",
        "\n",
        "Želimo da dobijemo kratak opis ```pwd``` komande:\n",
        "```\n",
        "help -d pwd\n",
        "```\n",
        "\n",
        "Želimo da dobijemo sintaksu ```cd``` komande:\n",
        "```\n",
        "help -s cd\n",
        "```"
      ],
      "metadata": {
        "id": "DbnYtbC8-ZVz"
      }
    },
    {
      "cell_type": "markdown",
      "source": [
        "## Komanda ```factor```\n",
        "\n",
        "Komanda ispisuje osnovne faktore svakog navedenog celog broja. Ako nijedan nije naveden u komandnoj liniji, zatražiće unos putem standardnog unosa (novi red će se pojaviti u terminalu, očekujući input).\n",
        "\n",
        "```\n",
        "factor 50\n",
        "```"
      ],
      "metadata": {
        "id": "ohbw8nkE_qn5"
      }
    },
    {
      "cell_type": "markdown",
      "source": [
        "## Komanda mkdir```\n",
        "\n",
        "Komanda služi za kreiranje novih direktorijuma.\n",
        "\n",
        "**Primeri:**\n",
        "Napraviti direktorijum pod nazivom myfiles.\n",
        "```\n",
        "mkdir myfiles\n",
        "```\n",
        "Napraviti direktorijum koji se zove myfiles i nalazi se unutar home direktorijuma:\n",
        "```\n",
        " mkdir ~/myfiles\n",
        "```\n",
        "Napraviti folder pod nazivom mydir i podesiti njegov file mode (```-m```) tako da svi korisnici (```a```) mogu da ga pročitaju (```r```), edituju (```w```) i pokrenu (```x```).\n",
        "```\n",
        "mkdir -m a=rwx mydir\n",
        "```"
      ],
      "metadata": {
        "id": "gcNRKGolAujR"
      }
    },
    {
      "cell_type": "markdown",
      "source": [
        "## Komanda `gzip`\n",
        "\n",
        "Komanda sluzi za (de)kompresovanje podataka.\n",
        "Redukuje veličinu fajla, primenjujući kompresiju.\n",
        "\n",
        "**Generalna komanda:**\n",
        "\n",
        "Kompresija\n",
        "```\n",
        "gzip file_name\n",
        "```\n",
        "Dekompresija\n",
        "```\n",
        "gzip -d file_name.gz\n",
        "```"
      ],
      "metadata": {
        "id": "-k5LECdyC-0R"
      }
    },
    {
      "cell_type": "markdown",
      "source": [
        "## Komanda ```echo```\n",
        "\n",
        "Komanda omogućava prikaz linije teksta-string koji je dat kao argument.\n",
        "\n",
        "**Primeri:**\n",
        "\n",
        "Prikazivanje teksta koji je stavljen kao argument:\n",
        "```\n",
        "echo Hello There\n",
        "```\n",
        "Prikazivanje svih fajlova i foldera (u ovom slučaju slično komandi `ls`)\n",
        "```\n",
        "echo *\n",
        "```\n",
        "Upisivanje teksta iz argumenta u fajl:\n",
        "```\n",
        "echo \"Hello There\" > foo.bar\n",
        "```\n",
        "Dodavanje teksta iz argumenta u fajl:\n",
        "```\n",
        "echo \"General Kenobi\" >> foo.bar\n",
        "```\n",
        "\n",
        "\n"
      ],
      "metadata": {
        "id": "tXdRb-0rE8CK"
      }
    },
    {
      "cell_type": "markdown",
      "source": [
        "## Komanda `top`\n",
        "\n",
        "Koristi se za prikaz informacija o sistemu. Prikaz je sortiran po tome koji proces koristi najviše CPU i RAM resursa. Od izuzetne je važnosti kada tražite proces koji vam \"koči\" računar ili kada više korisnika koristi istu mašinu za kompleksne računice.\n",
        "\n",
        "\n",
        "**Primeri:**\n",
        "\n",
        "Prikaz dinamične i real-time informacije o aktivnim procesima:\n",
        "```\n",
        "top\n",
        "```\n",
        "Sortiranje procesa shodno veličini interne memorije (standardno sortiranje prikaza je po process ID):\n",
        "```\n",
        "top -o mem\n",
        "```\n",
        "Sortiranje procesa, prvo po CPU usage, pa onda po running time:\n",
        "```\n",
        "top -o cpu -O time\n",
        "```\n",
        "Prikaz procesa za jednog korisnika:\n",
        "```\n",
        "top -u {user_name}\n",
        "```\n",
        "\n"
      ],
      "metadata": {
        "id": "mvPQmEMkGJiX"
      }
    },
    {
      "cell_type": "markdown",
      "source": [],
      "metadata": {
        "id": "5v7QtJDqJA3_"
      }
    },
    {
      "cell_type": "code",
      "source": [],
      "metadata": {
        "id": "lj1iUfev9Olh"
      },
      "execution_count": null,
      "outputs": []
    },
    {
      "cell_type": "code",
      "source": [
        "\n"
      ],
      "metadata": {
        "id": "iRK2cI7feYL2"
      },
      "execution_count": null,
      "outputs": []
    }
  ],
  "metadata": {
    "kernelspec": {
      "display_name": "Python 3",
      "language": "python",
      "name": "python3"
    },
    "language_info": {
      "codemirror_mode": {
        "name": "ipython",
        "version": 3
      },
      "file_extension": ".py",
      "mimetype": "text/x-python",
      "name": "python",
      "nbconvert_exporter": "python",
      "pygments_lexer": "ipython3",
      "version": "3.9.12"
    },
    "colab": {
      "provenance": []
    }
  },
  "nbformat": 4,
  "nbformat_minor": 0
}